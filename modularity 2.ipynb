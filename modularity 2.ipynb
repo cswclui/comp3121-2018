{
 "cells": [
  {
   "cell_type": "code",
   "execution_count": 41,
   "metadata": {},
   "outputs": [
    {
     "data": {
      "image/png": "[encoded data removed]",
      "text/plain": [
       "<matplotlib.figure.Figure at 0x12d1b8b4e0>"
      ]
     },
     "metadata": {},
     "output_type": "display_data"
    }
   ],
   "source": [
    "from numpy  import *\n",
    "import numpy as np\n",
    "import networkx as nx\n",
    "import matplotlib.pyplot as plt\n",
    "G=nx.Graph()\n",
    "G.add_edge(0,1)\n",
    "G.add_edge(1,2)\n",
    "G.add_edge(2,3)\n",
    "G.add_edge(3,4)\n",
    "G.add_edge(2,4)\n",
    "\n",
    "nx.draw(G, with_labels=True)\n",
    "plt.show()"
   ]
  },
  {
   "cell_type": "markdown",
   "metadata": {},
   "source": [
    "According to modularity, which of the following options  forms better communities? <br>\n",
    "i)\tCluster1={0, 1, 2}, cluster2={3,4}<br>\n",
    "ii)\tCluster1={0,1}, cluster1={2,3,4}\n"
   ]
  },
  {
   "cell_type": "markdown",
   "metadata": {},
   "source": [
    "A is the Adjacency matrix of the graph"
   ]
  },
  {
   "cell_type": "code",
   "execution_count": 29,
   "metadata": {},
   "outputs": [
    {
     "name": "stdout",
     "output_type": "stream",
     "text": [
      "[[ 0.  1.  0.  0.  0.]\n",
      " [ 1.  0.  1.  0.  0.]\n",
      " [ 0.  1.  0.  1.  1.]\n",
      " [ 0.  0.  1.  0.  1.]\n",
      " [ 0.  0.  1.  1.  0.]]\n"
     ]
    }
   ],
   "source": [
    "A=nx.to_numpy_matrix(G)\n",
    "print(np.matrix(A))"
   ]
  },
  {
   "cell_type": "code",
   "execution_count": 30,
   "metadata": {},
   "outputs": [
    {
     "name": "stdout",
     "output_type": "stream",
     "text": [
      "5\n"
     ]
    }
   ],
   "source": [
    "m = G.number_of_edges()\n",
    "print(m) "
   ]
  },
  {
   "cell_type": "code",
   "execution_count": 31,
   "metadata": {},
   "outputs": [
    {
     "name": "stdout",
     "output_type": "stream",
     "text": [
      "[[1 2 3 2 2]\n",
      " [2 4 6 4 4]\n",
      " [3 6 9 6 6]\n",
      " [2 4 6 4 4]\n",
      " [2 4 6 4 4]]\n"
     ]
    }
   ],
   "source": [
    "#initialize M[5][5] to store the multplication of the degree of two nodes\n",
    "M = [[0 for x in range(5)]for y in range(5)] \n",
    "\n",
    "for i in range(0,5):\n",
    "    for j in range(0,5):\n",
    "        M[i][j]=G.degree(i)*G.degree(j)\n",
    "        \n",
    "print(np.matrix(M))"
   ]
  },
  {
   "cell_type": "markdown",
   "metadata": {},
   "source": [
    "The matrix B stores the expected number of edges for each pair of nodes."
   ]
  },
  {
   "cell_type": "code",
   "execution_count": 32,
   "metadata": {},
   "outputs": [
    {
     "name": "stdout",
     "output_type": "stream",
     "text": [
      "[[ 0.1  0.2  0.3  0.2  0.2]\n",
      " [ 0.2  0.4  0.6  0.4  0.4]\n",
      " [ 0.3  0.6  0.9  0.6  0.6]\n",
      " [ 0.2  0.4  0.6  0.4  0.4]\n",
      " [ 0.2  0.4  0.6  0.4  0.4]]\n"
     ]
    }
   ],
   "source": [
    "B = multiply(M,1/(2*m))\n",
    "print(B)\n"
   ]
  },
  {
   "cell_type": "markdown",
   "metadata": {},
   "source": [
    "i)\tCluster1={0, 1, 2}, cluster2={3,4}<br>"
   ]
  },
  {
   "cell_type": "code",
   "execution_count": 38,
   "metadata": {},
   "outputs": [
    {
     "name": "stdout",
     "output_type": "stream",
     "text": [
      "modularity(cluster 1)=0.04\n",
      "modularity(cluster 2)=0.04\n",
      "overal modularity:  0.08\n"
     ]
    }
   ],
   "source": [
    "C = A - B\n",
    "\n",
    "cluster1 = {0,1,2}\n",
    "cluster2 = {3,4}\n",
    "\n",
    "sum1 = 0\n",
    "for i in cluster1:\n",
    "    for j in cluster1:\n",
    "        sum1 += C.item(i,j)\n",
    "sum1 = sum1/(2*m)\n",
    "print(\"modularity(cluster 1)=%.2f\"%(sum1))\n",
    "\n",
    "sum2 = 0\n",
    "for i in cluster2:\n",
    "    for j in cluster2:\n",
    "        sum2 += C.item(i,j)\n",
    "sum2 = sum2/(2*m)\n",
    "print(\"modularity(cluster 2)=%.2f\"%(sum2))\n",
    "\n",
    "print(\"overal modularity: \", round(sum1+sum2,2))"
   ]
  },
  {
   "cell_type": "markdown",
   "metadata": {},
   "source": [
    "ii)\tCluster1={0,1}, cluster1={2,3,4}"
   ]
  },
  {
   "cell_type": "code",
   "execution_count": 42,
   "metadata": {},
   "outputs": [
    {
     "name": "stdout",
     "output_type": "stream",
     "text": [
      "modularity(cluster 1)=0.11\n",
      "modularity(cluster 2)=0.11\n",
      "overal modularity:  0.22\n"
     ]
    }
   ],
   "source": [
    "cluster1 = {0,1}\n",
    "cluster2 = {2,3,4}\n",
    "\n",
    "sum1 = 0\n",
    "for i in cluster1:\n",
    "    for j in cluster1:\n",
    "        sum1 += C.item(i,j)\n",
    "sum1 = sum1/(2*m)\n",
    "print(\"modularity(cluster 1)=%.2f\"%(sum1))\n",
    "\n",
    "sum2 = 0\n",
    "for i in cluster2:\n",
    "    for j in cluster2:\n",
    "        sum2 += C.item(i,j)\n",
    "sum2 = sum2/(2*m)\n",
    "print(\"modularity(cluster 2)=%.2f\"%(sum2))\n",
    "\n",
    "print(\"overal modularity: \", round(sum1+sum2,2))"
   ]
  },
  {
   "cell_type": "markdown",
   "metadata": {},
   "source": [
    "In community detection, we want to separate the nodes into clusters  by maximizing the sum of the modularity of each of clusters. Option (ii) results in a higher overall modularity and is a better breakdown of clusters  than option (i)."
   ]
  }
 ],
 "metadata": {
  "kernelspec": {
   "display_name": "Python 3",
   "language": "python",
   "name": "python3"
  },
  "language_info": {
   "codemirror_mode": {
    "name": "ipython",
    "version": 3
   },
   "file_extension": ".py",
   "mimetype": "text/x-python",
   "name": "python",
   "nbconvert_exporter": "python",
   "pygments_lexer": "ipython3",
   "version": "3.6.3"
  }
 },
 "nbformat": 4,
 "nbformat_minor": 2
}
