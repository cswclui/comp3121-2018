{
 "cells": [
  {
   "cell_type": "code",
   "execution_count": 1,
   "metadata": {},
   "outputs": [
    {
     "data": {
      "image/png": "[encoded data removed]",
      "text/plain": [
       "<matplotlib.figure.Figure at 0xe28d871fd0>"
      ]
     },
     "metadata": {},
     "output_type": "display_data"
    }
   ],
   "source": [
    "from numpy  import *\n",
    "import numpy as np\n",
    "import networkx as nx\n",
    "import matplotlib.pyplot as plt\n",
    "G=nx.Graph()\n",
    "G.add_edge(0,1)\n",
    "G.add_edge(1,2)\n",
    "G.add_edge(2,3)\n",
    "G.add_edge(3,4)\n",
    "G.add_edge(2,4)\n",
    "\n",
    "nx.draw(G, with_labels=True)\n",
    "plt.show()"
   ]
  },
  {
   "cell_type": "markdown",
   "metadata": {},
   "source": [
    "According to modularity, which of the following options  forms better communities? <br>\n",
    "i)\tCluster1={0, 1, 2}, cluster2={3,4}<br>\n",
    "ii)\tCluster1={0,1}, cluster1={2,3,4}\n"
   ]
  },
  {
   "cell_type": "markdown",
   "metadata": {},
   "source": [
    "A is the Adjacency matrix of the graph"
   ]
  },
  {
   "cell_type": "code",
   "execution_count": 2,
   "metadata": {},
   "outputs": [
    {
     "name": "stdout",
     "output_type": "stream",
     "text": [
      "[[ 0.  1.  0.  0.  0.]\n",
      " [ 1.  0.  1.  0.  0.]\n",
      " [ 0.  1.  0.  1.  1.]\n",
      " [ 0.  0.  1.  0.  1.]\n",
      " [ 0.  0.  1.  1.  0.]]\n"
     ]
    }
   ],
   "source": [
    "A=nx.to_numpy_matrix(G)\n",
    "print(np.matrix(A))"
   ]
  },
  {
   "cell_type": "code",
   "execution_count": 3,
   "metadata": {},
   "outputs": [
    {
     "name": "stdout",
     "output_type": "stream",
     "text": [
      "5\n"
     ]
    }
   ],
   "source": [
    "m = G.number_of_edges()\n",
    "print(m) "
   ]
  },
  {
   "cell_type": "code",
   "execution_count": 4,
   "metadata": {},
   "outputs": [
    {
     "name": "stdout",
     "output_type": "stream",
     "text": [
      "[[1 2 3 2 2]\n",
      " [2 4 6 4 4]\n",
      " [3 6 9 6 6]\n",
      " [2 4 6 4 4]\n",
      " [2 4 6 4 4]]\n"
     ]
    }
   ],
   "source": [
    "#initialize M[5][5] to store the multplication of the degree of two nodes\n",
    "M = [[0 for x in range(5)]for y in range(5)] \n",
    "\n",
    "for i in range(0,5):\n",
    "    for j in range(0,5):\n",
    "        M[i][j]=G.degree(i)*G.degree(j)\n",
    "        \n",
    "print(np.matrix(M))"
   ]
  },
  {
   "cell_type": "markdown",
   "metadata": {},
   "source": [
    "The expected number of edges for each pair of nodes is given by <br>\n",
    "$b_{ij} = \\frac{d_id_j}{2m}$ "
   ]
  },
  {
   "cell_type": "code",
   "execution_count": 5,
   "metadata": {},
   "outputs": [
    {
     "name": "stdout",
     "output_type": "stream",
     "text": [
      "[[ 0.1  0.2  0.3  0.2  0.2]\n",
      " [ 0.2  0.4  0.6  0.4  0.4]\n",
      " [ 0.3  0.6  0.9  0.6  0.6]\n",
      " [ 0.2  0.4  0.6  0.4  0.4]\n",
      " [ 0.2  0.4  0.6  0.4  0.4]]\n"
     ]
    }
   ],
   "source": [
    "B = multiply(M,1/(2*m))\n",
    "print(B)\n"
   ]
  },
  {
   "cell_type": "markdown",
   "metadata": {},
   "source": [
    "Let $S = A - B $"
   ]
  },
  {
   "cell_type": "code",
   "execution_count": 6,
   "metadata": {},
   "outputs": [
    {
     "name": "stdout",
     "output_type": "stream",
     "text": [
      "[[-0.1  0.8 -0.3 -0.2 -0.2]\n",
      " [ 0.8 -0.4  0.4 -0.4 -0.4]\n",
      " [-0.3  0.4 -0.9  0.4  0.4]\n",
      " [-0.2 -0.4  0.4 -0.4  0.6]\n",
      " [-0.2 -0.4  0.4  0.6 -0.4]]\n"
     ]
    }
   ],
   "source": [
    "S = A - B\n",
    "print(S)\n"
   ]
  },
  {
   "cell_type": "markdown",
   "metadata": {},
   "source": [
    "Consider option1:\n",
    "Cluster1={0, 1, 2}, cluster2={3,4}<br>\n",
    "We may sum up  the values in S[0][0], s[0][1], s[0][2],  S[1][0], s[1][1], s[1][2], S[2][0], s[2][1], s[2][2] to compute the strength of cluster1.\n",
    "\n",
    "We may sum up  the values in S[3][3], s[3][4], s[4][3],  S[4][4]  to compute the strength of cluster2. \n",
    "\n",
    "Mutiplying the strength by 1/(2m) computes the modularity."
   ]
  },
  {
   "cell_type": "code",
   "execution_count": 7,
   "metadata": {},
   "outputs": [
    {
     "name": "stdout",
     "output_type": "stream",
     "text": [
      "modularity(cluster 1)=0.04\n",
      "modularity(cluster 2)=0.04\n",
      "overall modularity Q =  0.08\n"
     ]
    }
   ],
   "source": [
    "cluster1 = {0,1,2}\n",
    "cluster2 = {3,4}\n",
    "\n",
    "sum1 = 0\n",
    "for i in cluster1:\n",
    "    for j in cluster1:\n",
    "        sum1 += S.item(i,j)\n",
    "sum1 = sum1/(2*m)\n",
    "print(\"modularity(cluster 1)=%.2f\"%(sum1))\n",
    "\n",
    "sum2 = 0\n",
    "for i in cluster2:\n",
    "    for j in cluster2:\n",
    "        sum2 += S.item(i,j)\n",
    "sum2 = sum2/(2*m)\n",
    "print(\"modularity(cluster 2)=%.2f\"%(sum2))\n",
    "\n",
    "print(\"overall modularity Q = \", round(sum1+sum2,2))"
   ]
  },
  {
   "cell_type": "markdown",
   "metadata": {},
   "source": [
    "For\tCluster1={0,1}, cluster1={2,3,4},\n",
    "we may sum up  the values in S[0][0], s[0][1], s[0][2],  S[1][0], s[1][1], s[1][2] to compute the strength of cluster1.\n",
    "\n",
    "We may sum up  the values in S[2][0], s[2][1], s[2][2], S[3][3], s[3][4], s[4][3],  S[4][4]  to compute the strength of cluster2. \n",
    "\n",
    "Mutiplying the strength by 1/(2m) computes the modularity."
   ]
  },
  {
   "cell_type": "code",
   "execution_count": 8,
   "metadata": {},
   "outputs": [
    {
     "name": "stdout",
     "output_type": "stream",
     "text": [
      "modularity(cluster 1)=0.11\n",
      "modularity(cluster 2)=0.11\n",
      "overall modularity Q:  0.22\n"
     ]
    }
   ],
   "source": [
    "cluster1 = {0,1}\n",
    "cluster2 = {2,3,4}\n",
    "\n",
    "sum1 = 0\n",
    "for i in cluster1:\n",
    "    for j in cluster1:\n",
    "        sum1 += S.item(i,j)\n",
    "\n",
    "sum1 = sum1/(2*m)\n",
    "print(\"modularity(cluster 1)=%.2f\"%(sum1))\n",
    "\n",
    "sum2 = 0\n",
    "for i in cluster2:\n",
    "    for j in cluster2:\n",
    "        sum2 += S.item(i,j)\n",
    "\n",
    "sum2 = sum2/(2*m)\n",
    "print(\"modularity(cluster 2)=%.2f\"%(sum2))\n",
    "\n",
    "print(\"overall modularity Q: \", round(sum1+sum2,2))"
   ]
  },
  {
   "cell_type": "markdown",
   "metadata": {},
   "source": [
    "In community detection, we want to separate the nodes into clusters  by maximizing the sum of the modularity of each of clusters. Option (ii) results in a higher overall modularity and is a better breakdown of clusters  than option (i)."
   ]
  }
 ],
 "metadata": {
  "kernelspec": {
   "display_name": "Python 3",
   "language": "python",
   "name": "python3"
  },
  "language_info": {
   "codemirror_mode": {
    "name": "ipython",
    "version": 3
   },
   "file_extension": ".py",
   "mimetype": "text/x-python",
   "name": "python",
   "nbconvert_exporter": "python",
   "pygments_lexer": "ipython3",
   "version": "3.6.3"
  }
 },
 "nbformat": 4,
 "nbformat_minor": 2
}
