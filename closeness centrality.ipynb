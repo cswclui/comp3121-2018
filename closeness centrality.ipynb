{
 "cells": [
  {
   "cell_type": "markdown",
   "metadata": {},
   "source": [
    "# Remarks about assignment 1\n",
    "\n",
    "The network calculation of closeness centality is different from formulas in the lecture notes, which can only handle graphs with a single connected component.\n",
    "\n",
    "Details can be found here.\n",
    "https://networkx.github.io/documentation/stable/reference/algorithms/generated/networkx.algorithms.centrality.closeness_centrality.html?highlight=closeness_centrality#networkx.algorithms.centrality.closeness_centrality\n",
    "\n",
    "\n",
    "For example, the closeness centrality for node 1 is\n",
    " $$ closeness(1)=\\frac{4-1}{1+1+2} = 0.75$$\n",
    "\n",
    "\n"
   ]
  },
  {
   "cell_type": "code",
   "execution_count": 31,
   "metadata": {},
   "outputs": [
    {
     "name": "stdout",
     "output_type": "stream",
     "text": [
      "0.75\n",
      "0.5\n",
      "0.75\n",
      "0.5\n"
     ]
    },
    {
     "data": {
      "image/png": "[encoded data removed]",
      "text/plain": [
       "<matplotlib.figure.Figure at 0xe370288a20>"
      ]
     },
     "metadata": {},
     "output_type": "display_data"
    }
   ],
   "source": [
    "import networkx as nx\n",
    "import matplotlib.pyplot as plt\n",
    "G = nx.Graph()\n",
    "G.add_edge(1, 2)\n",
    "G.add_edge(1, 3)\n",
    "G.add_edge(3, 4)\n",
    "#G.add_edge(3, 4)\n",
    "\n",
    "for i in range(1,5):\n",
    "    print(nx.closeness_centrality(G,i))\n",
    "\n",
    "nx.draw(G, with_labels=True)\n",
    "plt.show()"
   ]
  },
  {
   "cell_type": "markdown",
   "metadata": {
    "collapsed": true
   },
   "source": [
    "The graph below has two  connected components. So, the closeness centrality of node u is normalized by the size of the connected components of u. \n",
    "\n",
    "Examples:\n",
    "\\begin{align}\n",
    "closeness(1) & = \\frac{(4-1)}{(1+1+2)}  \\frac{(4-1)}{(6-1)} = 0.45 \\\\\n",
    "closeness(5) & = \\frac{(2-1)}{(1)}  \\frac{(2-1)}{(6-1)} = 0.2\\\\\n",
    "\\end{align}"
   ]
  },
  {
   "cell_type": "code",
   "execution_count": 35,
   "metadata": {},
   "outputs": [
    {
     "name": "stdout",
     "output_type": "stream",
     "text": [
      "0.44999999999999996\n",
      "0.3\n",
      "0.44999999999999996\n",
      "0.3\n",
      "0.2\n",
      "0.2\n"
     ]
    },
    {
     "data": {
      "image/png": "[encoded data removed]",
      "text/plain": [
       "<matplotlib.figure.Figure at 0xe3703082e8>"
      ]
     },
     "metadata": {},
     "output_type": "display_data"
    }
   ],
   "source": [
    "G = nx.Graph()\n",
    "G.add_edge(1, 2)\n",
    "G.add_edge(1, 3)\n",
    "G.add_edge(3, 4)\n",
    "G.add_edge(5, 6)\n",
    "#G.add_edge(3, 4)\n",
    "\n",
    "for i in range(1,7):\n",
    "    print(nx.closeness_centrality(G,i))\n",
    "\n",
    "nx.draw(G, with_labels=True)\n",
    "plt.show()"
   ]
  },
  {
   "cell_type": "markdown",
   "metadata": {},
   "source": [
    "In assignment 1,you should make use of the following definition of closeness centrality.\n",
    "\n",
    "Let $d_{i,j}$ be the distance between node i and j and N be the number of nodes in the graph G.\n",
    "Closeness centrality is calculated as follows.\n",
    "$$ closeness(i) = \\sum_{j\\neq i}^N \\frac{1}{d_{i,j}}$$\n",
    "\n",
    "You may find the details here.\n",
    "\n",
    "https://toreopsahl.com/2010/03/20/closeness-centrality-in-networks-with-disconnected-components/\n",
    "    "
   ]
  },
  {
   "cell_type": "code",
   "execution_count": null,
   "metadata": {
    "collapsed": true
   },
   "outputs": [],
   "source": []
  }
 ],
 "metadata": {
  "kernelspec": {
   "display_name": "Python 3",
   "language": "python",
   "name": "python3"
  },
  "language_info": {
   "codemirror_mode": {
    "name": "ipython",
    "version": 3
   },
   "file_extension": ".py",
   "mimetype": "text/x-python",
   "name": "python",
   "nbconvert_exporter": "python",
   "pygments_lexer": "ipython3",
   "version": "3.6.3"
  }
 },
 "nbformat": 4,
 "nbformat_minor": 2
}
