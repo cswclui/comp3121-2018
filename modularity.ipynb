{
 "cells": [
  {
   "cell_type": "code",
   "execution_count": 1,
   "metadata": {
    "scrolled": true
   },
   "outputs": [
    {
     "data": {
      "image/png": "[encoded data removed]",
      "text/plain": [
       "<matplotlib.figure.Figure at 0x12712e8668>"
      ]
     },
     "metadata": {},
     "output_type": "display_data"
    }
   ],
   "source": [
    "import numpy as np\n",
    "import networkx as nx\n",
    "import matplotlib.pyplot as plt\n",
    "G=nx.Graph()\n",
    "G.add_edge(1,2)\n",
    "G.add_edge(1,3)\n",
    "G.add_edge(1,4)\n",
    "G.add_edge(2,3)\n",
    "G.add_edge(3,4)\n",
    "G.add_edge(4,5)\n",
    "G.add_edge(4,6)\n",
    "G.add_edge(5,6)\n",
    "G.add_edge(5,7)\n",
    "G.add_edge(6,7)\n",
    "G.add_edge(5,8)\n",
    "G.add_edge(6,8)\n",
    "G.add_edge(7,8)\n",
    "G.add_edge(7,9)\n",
    "\n",
    "\n",
    "nx.draw(G, with_labels=True)\n",
    "plt.show()"
   ]
  },
  {
   "cell_type": "code",
   "execution_count": 4,
   "metadata": {},
   "outputs": [
    {
     "name": "stdout",
     "output_type": "stream",
     "text": [
      "14\n",
      "3\n",
      "4\n"
     ]
    }
   ],
   "source": [
    "no_of_edges=G.number_of_edges()\n",
    "print(no_of_edges)\n",
    "\n",
    "\n"
   ]
  },
  {
   "cell_type": "markdown",
   "metadata": {},
   "source": [
    "Consider a candidate community (1,4,6)"
   ]
  },
  {
   "cell_type": "code",
   "execution_count": 14,
   "metadata": {},
   "outputs": [
    {
     "name": "stdout",
     "output_type": "stream",
     "text": [
      "3\n",
      "4\n",
      "0.42857142857142855\n"
     ]
    }
   ],
   "source": [
    "#1 and 4\n",
    "degree_i = G.degree(1)\n",
    "degree_j = G.degree(4)\n",
    "print(degree_i)\n",
    "print(degree_j)\n",
    "expected_no_of_edges14=(degree_i * degree_j)/(2*no_of_edges)\n",
    "print(expected_no_of_edges14)"
   ]
  },
  {
   "cell_type": "code",
   "execution_count": 15,
   "metadata": {},
   "outputs": [
    {
     "name": "stdout",
     "output_type": "stream",
     "text": [
      "4\n",
      "4\n",
      "0.5714285714285714\n"
     ]
    }
   ],
   "source": [
    "#4 and 6\n",
    "degree_i = G.degree(4)\n",
    "degree_j = G.degree(6)\n",
    "print(degree_i)\n",
    "print(degree_j)\n",
    "expected_no_of_edges46=(degree_i * degree_j)/(2*no_of_edges)\n",
    "print(expected_no_of_edges46)"
   ]
  },
  {
   "cell_type": "code",
   "execution_count": 16,
   "metadata": {},
   "outputs": [
    {
     "name": "stdout",
     "output_type": "stream",
     "text": [
      "3\n",
      "4\n",
      "0.42857142857142855\n"
     ]
    }
   ],
   "source": [
    "#1 and 6\n",
    "degree_i = G.degree(1)\n",
    "degree_j = G.degree(6)\n",
    "print(degree_i)\n",
    "print(degree_j)\n",
    "expected_no_of_edges16=(degree_i * degree_j)/(2*no_of_edges)\n",
    "print(expected_no_of_edges16)\n",
    "\n",
    "\n"
   ]
  },
  {
   "cell_type": "code",
   "execution_count": 18,
   "metadata": {},
   "outputs": [
    {
     "name": "stdout",
     "output_type": "stream",
     "text": [
      "0.5714285714285714\n"
     ]
    }
   ],
   "source": [
    "strength = 0\n",
    "\n",
    "#1 & 4\n",
    "strength += (1 -expected_no_of_edges14 )\n",
    "\n",
    "#4 & 6\n",
    "strength += (1 - expected_no_of_edges46 )\n",
    "#1 & 6\n",
    "strength += (0 -expected_no_of_edges16 )\n",
    "print(strength)"
   ]
  },
  {
   "cell_type": "code",
   "execution_count": null,
   "metadata": {
    "collapsed": true
   },
   "outputs": [],
   "source": []
  }
 ],
 "metadata": {
  "kernelspec": {
   "display_name": "Python 3",
   "language": "python",
   "name": "python3"
  },
  "language_info": {
   "codemirror_mode": {
    "name": "ipython",
    "version": 3
   },
   "file_extension": ".py",
   "mimetype": "text/x-python",
   "name": "python",
   "nbconvert_exporter": "python",
   "pygments_lexer": "ipython3",
   "version": "3.6.3"
  }
 },
 "nbformat": 4,
 "nbformat_minor": 2
}
